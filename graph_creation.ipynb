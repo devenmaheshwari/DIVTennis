{
 "cells": [
  {
   "cell_type": "markdown",
   "metadata": {},
   "source": [
    "# Generating UI (data visualizations) for index.html"
   ]
  },
  {
   "cell_type": "code",
   "execution_count": 1,
   "metadata": {},
   "outputs": [],
   "source": [
    "import sqlite3\n",
    "import pandas as pd\n",
    "import json\n",
    "\n",
    "\n",
    "# connect to database\n",
    "\n",
    "conn = sqlite3.connect(\"Submission.db\")"
   ]
  },
  {
   "cell_type": "markdown",
   "metadata": {},
   "source": [
    "Idea: Create an interactive bar graph matrix\n",
    "\n",
    "Based on the attributes, we create a bar graph matrix comparing injury vs non injury based on weather\n",
    "\n",
    "Each bar graph is then clickable, which opens a secondary stratified line graph (by court type)"
   ]
  },
  {
   "cell_type": "code",
   "execution_count": null,
   "metadata": {},
   "outputs": [],
   "source": []
  },
  {
   "cell_type": "code",
   "execution_count": 3,
   "metadata": {},
   "outputs": [],
   "source": [
    "def generic_bar(): # generic bar graph (injuries per court type - 3 layers)\n",
    "    # Filter only those results from July (07) 2022 to February (02) 2023\n",
    "    query = \"SELECT Surface, Injury FROM Data WHERE Date BETWEEN '2022-07-01' AND '2023-02-28'\"\n",
    "\n",
    "    df = pd.read_sql_query(query, conn)\n",
    "\n",
    "    # counting injuries per surface type\n",
    "    grouped_data = df.groupby(['Surface', 'Injury']).size().reset_index(name='Count')\n",
    "\n",
    "    # extract all the counts for the chart\n",
    "    count_injured_hard = grouped_data[(grouped_data['Surface'] == 'Hard') & (grouped_data['Injury'] == 1)]['Count'].values[0] \n",
    "    count_non_injured_hard = grouped_data[(grouped_data['Surface'] == 'Hard') & (grouped_data['Injury'] == 0)]['Count'].values[0]\n",
    "\n",
    "    count_injured_clay = grouped_data[(grouped_data['Surface'] == 'Clay') & (grouped_data['Injury'] == 1)]['Count'].values[0]\n",
    "    count_non_injured_clay = grouped_data[(grouped_data['Surface'] == 'Clay') & (grouped_data['Injury'] == 0)]['Count'].values[0]\n",
    "\n",
    "    count_injured_grass = grouped_data[(grouped_data['Surface'] == 'Grass') & (grouped_data['Injury'] == 1)]['Count'].values[0]\n",
    "    count_non_injured_grass = grouped_data[(grouped_data['Surface'] == 'Grass') & (grouped_data['Injury'] == 0)]['Count'].values[0]\n",
    "\n",
    "    # dump to JSON\n",
    "    # wrapper for each variable in order to make it JSON serializable\n",
    "\n",
    "    data = {\n",
    "        \"Hard\": {\n",
    "            \"Injured\": int(count_injured_hard),\n",
    "            \"Non-Injured\": int(count_non_injured_hard)\n",
    "        },\n",
    "        \"Clay\": {\n",
    "            \"Injured\": int(count_injured_clay),\n",
    "            \"Non-Injured\": int(count_non_injured_clay)\n",
    "        },\n",
    "        \"Grass\": {\n",
    "            \"Injured\": int(count_injured_grass),\n",
    "            \"Non-Injured\": int(count_non_injured_grass)\n",
    "        }\n",
    "    }\n",
    "\n",
    "    with open(\"injury_vs_court_type.json\", \"w\") as f:\n",
    "        json.dump(data, f)\n",
    "        \n",
    "generic_bar()        "
   ]
  },
  {
   "cell_type": "code",
   "execution_count": null,
   "metadata": {},
   "outputs": [],
   "source": [
    "# close connection\n",
    "conn.close()"
   ]
  }
 ],
 "metadata": {
  "kernelspec": {
   "display_name": "Python 3",
   "language": "python",
   "name": "python3"
  },
  "language_info": {
   "codemirror_mode": {
    "name": "ipython",
    "version": 3
   },
   "file_extension": ".py",
   "mimetype": "text/x-python",
   "name": "python",
   "nbconvert_exporter": "python",
   "pygments_lexer": "ipython3",
   "version": "3.12.2"
  }
 },
 "nbformat": 4,
 "nbformat_minor": 2
}
