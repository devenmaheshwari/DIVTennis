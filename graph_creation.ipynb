{
 "cells": [
  {
   "cell_type": "markdown",
   "metadata": {},
   "source": [
    "# Generating UI (data visualizations) for index.html"
   ]
  },
  {
   "cell_type": "code",
   "execution_count": 1,
   "metadata": {},
   "outputs": [],
   "source": [
    "import sqlite3\n",
    "import pandas as pd\n",
    "import json\n",
    "\n",
    "\n",
    "# connect to database\n",
    "\n",
    "conn = sqlite3.connect(\"Submission.db\")"
   ]
  },
  {
   "cell_type": "markdown",
   "metadata": {},
   "source": [
    "Idea: Create an interactive bar graph matrix\n",
    "\n",
    "Based on the attributes, we create a bar graph matrix comparing injury vs non injury based on weather\n",
    "\n",
    "Each bar graph is then clickable, which opens a secondary stratified line graph (by court type)"
   ]
  },
  {
   "cell_type": "code",
   "execution_count": null,
   "metadata": {},
   "outputs": [
    {
     "name": "stdout",
     "output_type": "stream",
     "text": [
      "[('Data',)]\n",
      "[(0, 'Date', 'TEXT', 0, None, 0), (1, 'Player', 'TEXT', 0, None, 0), (2, 'Tournament', 'TEXT', 0, None, 0), (3, 'Location', 'TEXT', 0, None, 0), (4, 'Surface', 'TEXT', 0, None, 0), (5, 'Injury', 'INTEGER', 0, None, 0), (6, 'Weather', 'TEXT', 0, None, 0)]\n",
      "[('2000-01-03', 'Dosedel S.', 'Australian Hardcourt Championships', 'Adelaide', 'Hard', 0, '{\"date\": \"2000-01-03\", \"weather_code\": [2.0], \"temperature_2m_max\": [25.19649887084961], \"temperature_2m_min\": [12.796499252319336], \"temperature_2m_mean\": [18.254831314086914], \"daylight_duration\": [51965.80859375], \"precipitation_sum\": [0.0], \"rain_sum\": [0.0], \"snowfall_sum\": [0.0], \"precipitation_hours\": [0.0], \"wind_speed_10m_max\": [31.259944915771484], \"wind_gusts_10m_max\": [47.880001068115234], \"wind_direction_10m_dominant\": [195.9699249267578]}')]\n"
     ]
    }
   ],
   "source": [
    "# peek datadbase\n",
    "\n",
    "cursor = conn.cursor()\n",
    "cursor.execute(\"SELECT name FROM sqlite_master WHERE type='table';\")\n",
    "print(cursor.fetchall())\n",
    "\n",
    "# one table called Data\n",
    "\n",
    "# read column names\n",
    "cursor.execute(\"PRAGMA table_info(Data)\")\n",
    "print(cursor.fetchall())\n",
    "\n",
    "# print first row\n",
    "cursor.execute(\"SELECT * FROM Data LIMIT 1\")\n",
    "print(cursor.fetchall())\n",
    "\n"
   ]
  },
  {
   "cell_type": "markdown",
   "metadata": {},
   "source": [
    "Findings:\n",
    "\n",
    "1. 0 means not injured, 1 means injured\n",
    "\n",
    "2. Weather is composed of:\n",
    "\n",
    "date (YYYY-MM-DD)\n",
    "\n",
    "weather_code following the pattern:\n",
    "\n",
    "* 0 = Clear sky\n",
    "* 1 = Mainly clear\n",
    "* 2 = Partly cloudy\n",
    "* 3 = Overcast\n",
    "* 45 = Fog\n",
    "* 48 = Depositing Rime Fog\n",
    "* 51 = Drizzle: Light\n",
    "* 53 = Drizzle: Moderate\n",
    "etc .... \n",
    "\n",
    "temperature_2m_max (maximum temperature at 2 meters above the ground for the day)\n",
    "\n",
    "temperature_2m_min\n",
    "(minimum temperature at 2 meters above the ground for the day)\n",
    "\n",
    "temperature_2m_mean\n",
    "(mean temperature at 2 meters above the ground for the day)\n",
    "\n",
    "daylight_duration\n",
    "(duration of daylight for the day in seconds)\n",
    "\n",
    "precipitation_sum\n",
    "(total amount of precipitation for the day (in milimeters))\n",
    "\n",
    "rain_sum\n",
    "(total amount of rain during the day (in milimeters))\n",
    "\n",
    "snowfall_sum\n",
    "(total amount of snowfall during the day (in milimeters))\n",
    "\n",
    "precipitation_hours \n",
    "(number of hours during which precipitation was recorded)\n",
    "\n",
    "wind_speed_10m_max\n",
    "(maximum wind speed at 10 meters above the ground for the day)\n",
    "\n",
    "wind_gusts_10m_max\n",
    "(maximum wind gust at 10 meters above the ground for the day)\n",
    "\n",
    "wind_direction_10m_dominant\n",
    "(dominant wind direction at 10 meters above the ground for the day, in degrees)\n",
    "\n"
   ]
  },
  {
   "cell_type": "code",
   "execution_count": 42,
   "metadata": {},
   "outputs": [
    {
     "name": "stdout",
     "output_type": "stream",
     "text": [
      "[('[2.0]',), ('[1.0]',), ('[51.0]',), ('[61.0]',), (None,)]\n"
     ]
    }
   ],
   "source": [
    "# print weather data\n",
    "cursor.execute(\"SELECT DISTINCT json_extract(Weather, '$.weather_code') FROM Data\")\n",
    "print(cursor.fetchall())\n",
    "\n"
   ]
  },
  {
   "cell_type": "markdown",
   "metadata": {},
   "source": [
    "Observations:\n",
    "\n",
    "Weather is overall restricted to the following conditions (see https://open-meteo.com/en/docs#daily=weather_code):\n",
    "\n",
    "2 = Partly cloudy\n",
    "1 = Mainly clear\n",
    "51 = Light drizzle\n",
    "61 = Slight rain "
   ]
  },
  {
   "cell_type": "code",
   "execution_count": 46,
   "metadata": {},
   "outputs": [
    {
     "name": "stdout",
     "output_type": "stream",
     "text": [
      "  Weather Code  Non-Injured  Injured\n",
      "0         None         3026      500\n"
     ]
    }
   ],
   "source": [
    "def bar_by_weather_code(): # graph to plot non-injured (0) vs injured (1) by weather code\n",
    "    # query 1: get count of non-injured players by weather code\n",
    "    # we must segment by date because of the limitations of the injured data \n",
    "    query = \"SELECT json_extract(Weather, '$.weather_code'), COUNT(*) FROM Data WHERE (Injury = 0 AND Date BETWEEN '2022-07-01' AND '2023-02-28') GROUP BY json_extract(Weather, '$.weather_code')\"\n",
    "    cursor.execute(query)\n",
    "    data = cursor.fetchall()\n",
    "    \n",
    "    df1 = pd.DataFrame(data, columns = ['Weather Code', 'Non-Injured'])\n",
    "    \n",
    "    # query 2: get count of injured players by weather code\n",
    "    query = \"SELECT json_extract(Weather, '$.weather_code'), COUNT(*) FROM Data WHERE (Injury = 1 AND Date BETWEEN '2022-07-01' AND '2023-02-28') GROUP BY json_extract(Weather, '$.weather_code')\"\n",
    "    cursor.execute(query)\n",
    "    data = cursor.fetchall()\n",
    "    \n",
    "    df2 = pd.DataFrame(data, columns = ['Weather Code', 'Injured'])\n",
    "    \n",
    "    # merge the two dataframes\n",
    "    df = pd.merge(df1, df2, on='Weather Code')\n",
    "    \n",
    "    print(df)\n",
    "\n",
    "bar_by_weather_code()\n"
   ]
  },
  {
   "cell_type": "markdown",
   "metadata": {},
   "source": [
    "Observations:\n",
    "\n",
    "Weather is overall restricted to the following conditions (see https://open-meteo.com/en/docs#daily=weather_code):\n",
    "\n",
    "2 = Partly cloudy\n",
    "1 = Mainly clear\n",
    "51 = Light drizzle\n",
    "61 = Slight rain "
   ]
  },
  {
   "cell_type": "code",
   "execution_count": null,
   "metadata": {},
   "outputs": [],
   "source": [
    "def basic_line(): # generic line graph (injuries per court type - 3 layers)\n",
    "    # Filter only those results from July (07) 2022 to February (02) 2023\n",
    "    query = \"SELECT Surface, Injury FROM Data WHERE Date BETWEEN '2022-07-01' AND '2023-02-28'\"\n",
    "\n",
    "    cursor.execute(query)\n",
    "    data = cursor.fetchall()\n",
    "\n",
    "    # counting injuries per surface type\n",
    "    grouped_data = pd.DataFrame(data, columns = ['Surface', 'Injury']).groupby(['Surface', 'Injury']).size().reset_index(name='Count')\n",
    "\n",
    "    # extract all the counts for the chart\n",
    "    count_injured_hard = grouped_data[(grouped_data['Surface'] == 'Hard') & (grouped_data['Injury'] == 1)]['Count'].values[0] \n",
    "    count_non_injured_hard = grouped_data[(grouped_data['Surface'] == 'Hard') & (grouped_data['Injury'] == 0)]['Count'].values[0]\n",
    "\n",
    "    count_injured_clay = grouped_data[(grouped_data['Surface'] == 'Clay') & (grouped_data['Injury'] == 1)]['Count'].values[0]\n",
    "    count_non_injured_clay = grouped_data[(grouped_data['Surface'] == 'Clay') & (grouped_data['Injury'] == 0)]['Count'].values[0]\n",
    "\n",
    "    count_injured_grass = grouped_data[(grouped_data['Surface'] == 'Grass') & (grouped_data['Injury'] == 1)]['Count'].values[0]\n",
    "    count_non_injured_grass = grouped_data[(grouped_data['Surface'] == 'Grass') & (grouped_data['Injury'] == 0)]['Count'].values[0]\n",
    "\n",
    "    # dump to JSON\n",
    "    # wrapper for each variable in order to make it JSON serializable\n",
    "\n",
    "    data = {\n",
    "        \"Hard\": {\n",
    "            \"Injured\": int(count_injured_hard),\n",
    "            \"Non-Injured\": int(count_non_injured_hard)\n",
    "        },\n",
    "        \"Clay\": {\n",
    "            \"Injured\": int(count_injured_clay),\n",
    "            \"Non-Injured\": int(count_non_injured_clay)\n",
    "        },\n",
    "        \"Grass\": {\n",
    "            \"Injured\": int(count_injured_grass),\n",
    "            \"Non-Injured\": int(count_non_injured_grass)\n",
    "        }\n",
    "    }\n",
    "\n",
    "    with open(\"injury_vs_court_type.json\", \"w\") as f:\n",
    "        json.dump(data, f)\n",
    "        \n",
    "basic_line()"
   ]
  },
  {
   "cell_type": "code",
   "execution_count": null,
   "metadata": {},
   "outputs": [],
   "source": [
    "# close connection\n",
    "conn.close()"
   ]
  }
 ],
 "metadata": {
  "kernelspec": {
   "display_name": "Python 3",
   "language": "python",
   "name": "python3"
  },
  "language_info": {
   "codemirror_mode": {
    "name": "ipython",
    "version": 3
   },
   "file_extension": ".py",
   "mimetype": "text/x-python",
   "name": "python",
   "nbconvert_exporter": "python",
   "pygments_lexer": "ipython3",
   "version": "3.12.2"
  }
 },
 "nbformat": 4,
 "nbformat_minor": 2
}
