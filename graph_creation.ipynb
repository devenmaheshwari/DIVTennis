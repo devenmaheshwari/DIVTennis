{
 "cells": [
  {
   "cell_type": "markdown",
   "metadata": {},
   "source": [
    "# Generating UI (data visualizations) for index.html"
   ]
  },
  {
   "cell_type": "code",
   "execution_count": 1,
   "metadata": {},
   "outputs": [],
   "source": [
    "import sqlite3\n",
    "import pandas as pd\n",
    "import json\n",
    "\n",
    "\n",
    "# connect to database\n",
    "\n",
    "conn = sqlite3.connect(\"Submission.db\")"
   ]
  },
  {
   "cell_type": "markdown",
   "metadata": {},
   "source": [
    "Idea: Create an interactive bar graph matrix\n",
    "\n",
    "Based on the attributes, we create a bar graph matrix comparing injury vs non injury based on weather\n",
    "\n",
    "Each bar graph is then clickable, which opens a secondary stratified line graph (by court type)"
   ]
  },
  {
   "cell_type": "code",
   "execution_count": null,
   "metadata": {},
   "outputs": [
    {
     "name": "stdout",
     "output_type": "stream",
     "text": [
      "[('Data',)]\n",
      "[(0, 'Date', 'TEXT', 0, None, 0), (1, 'Player', 'TEXT', 0, None, 0), (2, 'Tournament', 'TEXT', 0, None, 0), (3, 'Location', 'TEXT', 0, None, 0), (4, 'Surface', 'TEXT', 0, None, 0), (5, 'Injury', 'INTEGER', 0, None, 0), (6, 'Weather', 'TEXT', 0, None, 0)]\n",
      "[('2000-01-03', 'Dosedel S.', 'Australian Hardcourt Championships', 'Adelaide', 'Hard', 0, '{\"date\": \"2000-01-03\", \"weather_code\": [2.0], \"temperature_2m_max\": [25.19649887084961], \"temperature_2m_min\": [12.796499252319336], \"temperature_2m_mean\": [18.254831314086914], \"daylight_duration\": [51965.80859375], \"precipitation_sum\": [0.0], \"rain_sum\": [0.0], \"snowfall_sum\": [0.0], \"precipitation_hours\": [0.0], \"wind_speed_10m_max\": [31.259944915771484], \"wind_gusts_10m_max\": [47.880001068115234], \"wind_direction_10m_dominant\": [195.9699249267578]}')]\n"
     ]
    }
   ],
   "source": [
    "# peek datadbase\n",
    "\n",
    "cursor = conn.cursor()\n",
    "cursor.execute(\"SELECT name FROM sqlite_master WHERE type='table';\")\n",
    "print(cursor.fetchall())\n",
    "\n",
    "# one table called Data\n",
    "\n",
    "# read column names\n",
    "cursor.execute(\"PRAGMA table_info(Data)\")\n",
    "print(cursor.fetchall())\n",
    "\n",
    "# print first row\n",
    "cursor.execute(\"SELECT * FROM Data LIMIT 1\")\n",
    "print(cursor.fetchall())\n",
    "\n"
   ]
  },
  {
   "cell_type": "markdown",
   "metadata": {},
   "source": [
    "Findings:\n",
    "\n",
    "1. 0 means not injured, 1 means injured\n",
    "\n",
    "2. Weather is composed of:\n",
    "\n",
    "date (YYYY-MM-DD)\n",
    "\n",
    "weather_code following the pattern:\n",
    "\n",
    "* 0 = Clear sky\n",
    "* 1 = Mainly clear\n",
    "* 2 = Partly cloudy\n",
    "* 3 = Overcast\n",
    "* 45 = Fog\n",
    "* 48 = Depositing Rime Fog\n",
    "* 51 = Drizzle: Light\n",
    "* 53 = Drizzle: Moderate\n",
    "etc .... \n",
    "\n",
    "temperature_2m_max (maximum temperature at 2 meters above the ground for the day)\n",
    "\n",
    "temperature_2m_min\n",
    "(minimum temperature at 2 meters above the ground for the day)\n",
    "\n",
    "temperature_2m_mean\n",
    "(mean temperature at 2 meters above the ground for the day)\n",
    "\n",
    "daylight_duration\n",
    "(duration of daylight for the day in seconds)\n",
    "\n",
    "precipitation_sum\n",
    "(total amount of precipitation for the day (in milimeters))\n",
    "\n",
    "rain_sum\n",
    "(total amount of rain during the day (in milimeters))\n",
    "\n",
    "snowfall_sum\n",
    "(total amount of snowfall during the day (in milimeters))\n",
    "\n",
    "precipitation_hours \n",
    "(number of hours during which precipitation was recorded)\n",
    "\n",
    "wind_speed_10m_max\n",
    "(maximum wind speed at 10 meters above the ground for the day)\n",
    "\n",
    "wind_gusts_10m_max\n",
    "(maximum wind gust at 10 meters above the ground for the day)\n",
    "\n",
    "wind_direction_10m_dominant\n",
    "(dominant wind direction at 10 meters above the ground for the day, in degrees)\n",
    "\n"
   ]
  },
  {
   "cell_type": "code",
   "execution_count": 41,
   "metadata": {},
   "outputs": [
    {
     "name": "stdout",
     "output_type": "stream",
     "text": [
      "[('[2.0]',), ('[1.0]',), ('[51.0]',), ('[61.0]',), (None,)]\n",
      "[('Dosedel S.',), ('Clement A.',), ('Escude N.',), ('Knippschild J.',), ('Fromberg R.',), ('Arthurs W.',), ('Grosjean S.',), ('Balcells J.',), ('Hewitt L.',), ('Tebbutt M.',), ('Martin A.',), ('Draper S.',), ('Petrovic D.',), ('Pozzi G.',), ('Stoltenberg J.',), ('Goldstein P.',), ('Enqvist T.',), ('Lisnard J.',), ('Sekulov J.',), ('Norman M.',), ('Vinck C.',), ('Henman T.',), ('Kumar S.',), ('Behrend T.',), ('Rochus C.',), ('Delgado J.',), ('Spottl M.',), ('Hantschk M.',), ('Kroslak J.',), ('Ketola T.',), ('Zib T.',), ('Paes L.',), ('Ram A.',), ('Sanguinetti D.',), ('Kilderry P.',), ('Tabara M.',), ('Ishii Y.',), ('Vinciguerra A.',), ('Agenor R.',), ('Jonsson F.',), ('Vanek J.',), ('Manta L.',), ('Golmard J.',), ('Pioline C.',), ('Damm M.',), ('Bastl G.',), ('Al-Alawi S.K.',), ('Caratti C.',), ('Arazi H.',), ('El Aynaoui Y.',), ('Luxa P.',), ('Kiefer N.',), ('Puerta M.',), ('Santoro F.',), ('Diaz J.',), ('Schuettler R.',), ('Siemerink J.',), ('Tillstrom M.',), ('Vicente F.',), ('Gaudio G.',), ('Marin J.A.',), ('Squillari F.',), ('Cherkasov A.',), ('Schalken S.',), ('Mirnyi M.',), ('Chang M.',), ('Federer R.',), ('Gambill J.M.',), ('Sargsian S.',), ('Gustafsson M.',), ('Tarango J.',), ('Johansson T.',), ('Berasategui A.',), ('Bjorkman J.',), ('Rosset M.',), ('Ivanisevic G.',), ('Sell M.',), ('Woodruff C.',), ('Ferrero J.C.',), ('Novak J.',), ('Kuerten G.',), ('Hrbaty D.',), ('Costa A.',), ('Koubek S.',), ('Lapentti N.',), ('Safin M.',), ('Martin T.',), ('Vacek D.',), ('Spadea V.',), ('Corretja A.',), ('Ilie A.',), ('Voinea A.',), ('Ljubicic I.',), ('Alami K.',), ('Alonso J.',), ('Black W.',), ('Boutter J.',), ('Dupuis A.',), ('Parmar A.',), ('Ferreira W.',), ('Motomura G.',), ('Haas T.',), ('Karbacher B.',), ('Kafelnikov Y.',), ('Canas G.',), ('Medvedev A.',), ('Llodra M.',), ('Black B.',), ('Mamiit C.',), ('Philippoussis M.',), (\"O'Brien A.\",), ('Sampras P.',), ('Blanco G.',), ('Sluiter R.',), ('Sirianni J.',), ('Srichaphan P.',), ('Tieleman L.',), ('Lareau S.',), ('Ullyett K.',), ('Stanoytchev O.',), ('Woodbridge T.',), ('Mantilla F.',), ('Agassi A.',), ('Hill M.',), ('Portas A.',), ('Burgsmuller L.',), ('Gross O.',), ('Prinosil D.',), ('Pavel A.',), ('Raoux G.',), ('Courier J.',), ('Salzenstein J.',), ('Gimelstob J.',), ('Blake J.',), ('Gumy H.',), ('Rodriguez M.',), ('Liukko V.',), ('Woodforde M.',), ('Massu N.',), ('Larsson M.',), ('MacPhie B.',), ('Jensen L.',), ('Pretzsch A.',), ('Popp A.',), ('Reneberg R.',), ('Sa A.',), ('Dewulf F.',), ('Kucera K.',), ('Wessels P.',), ('Rusedski G.',), ('Saulnier C.',), ('Zabaleta M.',), ('Chela J.I.',), ('Etlis G.',), ('Bruguera S.',), ('Viloca J.A.',), ('di Pasquale A.',), ('Heuberger I.',), ('Bryan M.',), ('Clavet F.',), ('Stark J.',), ('Hipfl M.',), ('van Lottum J.',), ('Roddick A.',), ('Rafter P.',), ('Malisse X.',), ('Calatrava A.',), ('Calleri A.',), ('Ulihrach B.',), ('Alvarez E.',), ('Hood M.',), ('Gonzalez P.',), ('Hadad M.',), ('Prieto S.',), ('Ondruska M.',), ('Meligeni F.',), ('Moya C.',), ('Rios M.',), ('Dent T.',), ('Nalbandian D.',), ('Ruud C.',), ('Kratochvil M.',), ('Fish M.',), ('Kim K.',), ('Harper-Griffith L.',), ('Huet S.',), ('Taino E.',), ('Stoliarov A.',), ('Lopez-Moron A.',), ('Willems R.',), ('Guardiola T.',), ('Coutelot N.',), ('Mota B.',), ('Marques N.',), ('Burrieza O.',), ('Lopez F.',), ('Gaudenzi A.',), ('Krajicek R.',), ('Navarro S.',), ('Puentes G.',), ('Coria G.',), ('Browne F.',), ('Delgado R.',), ('Russell M.',), ('Gonzalez F.',), ('Goellner M.K.',), ('Kohlmann M.',), ('Humphries S.',), ('Giner J.',), ('Charpentier M.',), ('Eschauer W.',), ('Mahut N.',), ('Serrano O.',), ('Savolt A.',), ('Trifu G.',), ('Bryan B.',), ('Cowan B.',), ('Wheaton D.',), ('Nestor D.',), ('Lee M.',), ('Landsberg J.',), ('Boruszewski J.',), ('van Scheppingen D.',), ('Youzhny M.',), ('Gaudi I.',), ('Bower J.',), ('Levy H.',), ('Rochus O.',), ('Voltchkov V.',), ('Timfjord N.',), ('Fleischfresser T.',), ('Thomann N.',), ('Godwin N.',), ('Morrison J.',), ('Garcia A.',), ('Kempes E.',), ('Filippini M.',), ('Roitman S.',), ('Davydenko N.',), ('Hernych J.',), ('Elsner D.',), ('Zovko L.',), ('Vajda I.',), ('Sanchez D.',), ('Martelli M.',), ('Schranz W.',), ('Carretero R.',), ('Moretti H.',), ('Fasching A.',), ('Luzzi F.',), ('Cabello F.',), ('Costa F.',), ('Mathieu P.H.',), ('Roux L.',), ('Malcor O.',), ('Larose S.',), ('King P.',), ('Washington M.',), ('Caldwell D.',), ('Capalik K.',), ('Kim A.',), ('Kralert P.',), ('Lee H.T.',), ('Moldovan I.',), ('Sabau R.',), ('Pescariu D.',), ('Erlich J.',), ('Nargiso D.',), ('Tarallo S.',), ('Tong M.',), ('Galimberti G.',), ('Flygt K.',), ('Iwabuchi S.',), ('Suzuki T.',), ('Onoda M.',), ('Friedl L.',), ('Zhu B.Q.',), ('Robredo T.',), ('Pless K.',), ('Phau B.',), ('Bachelot J.F',), ('Palmer J.',), ('Childs L.',), ('Furlan R.',), ('Froberg J.',), ('Sarstrand M.',), ('Ortegren J.',), ('Jones A.',), ('Bhupathi M.',), ('Weiner G.',), ('Schukin Y.',), ('Fukarek O.',), ('Horna L.',), ('Simoni A.',), ('Tobon M.',), ('Hirigoyen I.',), ('Behr N.',), ('Settergren J.',), ('Arquez P.',), ('Acasuso J.',), ('Tursunov D.',), ('Hernandez A.',), ('Eagle J.',), ('Saretta F.',), ('Vemic D.',), ('Ginepri R.',), ('Belal C.',), ('Vacek J.',), ('Couto E.',), ('Sousa T.',), ('Montanes A.',), ('Labadze I.',), ('Wassen R.',), ('Melo D.',), ('Traykov I.',), ('Andersen J.F.',), ('Galvani S.',), ('Kauffmann C.',), ('Okun N.',), ('Carlsen K.',), ('Allegro Y.',), ('Elseneer G.',), ('Hilton M.',), ('Yoon Y.',), ('Knowle J.',), ('Vlasov D.',), ('Radic M.',), ('Norman D.',), ('Mutis O.',), ('Lopez M.',), ('Herm-Zahlava J.',), ('Bozic I.',), ('Kutsenko V.',), ('Schiessling T.',), ('Marach O.',), ('Armando H.',), ('Pfeiffer K.',), ('Stepanek R.',), ('Fleishman Z.',), ('Harsanyi P.',), ('Joyce M.',), ('Peya A.',), ('Bogomolov Jr.A.',), ('Brasington J.',), ('Ramirez Hidalgo R.',), ('Alves T.',), ('Mello R.',), ('Oncins J.',), ('Ogorodov O.',), ('Karlovic I.',), ('Jiang S.',), ('Wang Y.',), ('Terachi T.',), ('Hui J.',), ('Garcia-Sintes J.',), ('Volandri F.',), ('Zimonjic N.',), ('Kondo H.',), ('Thomas J.',), ('Udomchoke D.',), ('Benneteau J.',), ('Melzer J.',), ('Elgin M.',), ('Nieminen J.',), ('Soderling R.',), ('Dupre T.',), ('Reid T.',), ('Larkham T.',), ('Patience O.',), ('Carraz G.',), ('Ascione T.',), ('Silva J.',), ('Massa E.',), ('Bahrouzyan O.',), ('Mazarakis V.',), ('Verkerk M.',), ('Ancic M.',), ('El Aarej M.',), ('Matias N.',), ('Ferrer D.',), ('Gasquet R.',), ('Krajan Z.',), ('Marin L.',), ('Nadal-Parera R.',), ('Kohlschreiber P.',), ('de Chaunac S.',), ('Hadad A.',), ('Perez D.',), ('Vassallo-Arguello M.',), ('Miranda I.',), ('Dreekmann H.',), ('Bogdanovic A.',), ('Moodie W.',), ('Muller G.',), ('Ivanov-Smolensky K.',), ('Cadart R.',), ('Mackin A.',), ('Waske A.',), ('Vahaly B.',), ('Prpic F.',), ('Fraile G.',), ('Hanescu V.',), ('Todero N.',), ('Blake T.',), ('Ellwood B.',), ('Dancevic F.',), ('Agaev E.',), ('Boeker M.',), ('Saoudi S.',), ('Kunitcin I.',), ('Craca M.',), ('Abel M.',), ('Shvec A.',), ('Johansson J.',), ('Beck K.',), ('Vliegen K.',), ('Bopanna R.',), ('Lisnard J.R.',), ('Varlet J.',), ('Amritraj P.',), ('Van Lottum J.',), ('Rea S.',), ('Luczak P.',), ('Crabb J.',), ('Bogomolov Jr. A.',), ('Gambill J. M.',), ('Gamonal H.',), ('Peralta J.',), ('Daniel M.',), ('Prodon E.',), ('Baker B.',), ('Marin J.A',), ('Di Pasquale A.',), ('Kendrick R.',), ('Gooding J.',), ('Lapentti G.',), ('Verdasco F.',), ('Tahiri M.',), ('Lopes H.',), ('Nadal R.',), ('Cermak F.',), ('Garcia-Lopez G.',), ('Kunitsyn I.',), ('Mathieu P.',), ('Schuettler P.',), ('Scherrer J.C.',), ('de Voest R.',), ('Moser F.',), ('Hemmes F.',), ('Petzschner P.',), ('Baccanello P.',), ('Mertinak M.',), ('Bloomfield R.',), ('Niemeyer F.',), ('Rehnquist B.',), ('Lammer M.',), ('Guccione C.',), ('Hernandez O.',), ('Levinsky J.',), ('Wawrinka S.',), ('Starace P.',), ('Levine I.',), ('Behrmann M.',), ('Reynolds B.',), ('Delic A.',), ('Ayala D.',), ('Neumuller I.',), ('Vik R.',), ('Koellerer D.',), ('Karanusic R.',), ('Tuksar S.',), ('Yim R.',), ('Golovanov D.',), ('Matkowski M.',), ('Dabrowski B.',), ('MacLagan M.',), ('Youzhny A.',), ('Ramirez-Hidalgo R.',), ('Berdych T.',), ('Capdeville P.',), ('Moraru G.',), ('Chiudinelli M.',), ('Ratiwatana S.',), ('di Mauro A.',), ('Veronelli D.',), ('Tenconi T.',), ('Andreev I.',), ('Aldi F.',), ('Almagro N.',), ('Iwami T.',), ('Scherrer J.',), ('Ferrero J.',), ('Mankad H.',), ('Rastogi K.',), ('Khalfan S.',), ('Kucera V.',), ('Bogomolov A.',), ('Santopadre V.',), ('Seppi A.',), ('Bracciali D.',), ('Bohli S.',), ('Hippensteel K.',), ('Monaco J.',), ('Cakl T.',), ('Mayer F.',), ('Gallardo M.',), (\"Dell'Acqua M.\",), ('Marcaccio G.',), ('Tavares L.',), ('Robert S.',), ('Devilder N.',), ('Pashanski B.',), ('Kindlmann D.',), ('Pescosolido S.',), ('Vagnozzi S.',), ('Ventura S.',), ('Serra F.',), ('Jeanpierre J.',), ('Tipsarevic J.',), ('Haehnel J.',), ('Falla A.',), ('Marray J.',), ('Flanagan I.',), ('Ancic I.',), ('Fitz S.',), ('Navarro-Pastor I.',), ('Lu Y.H.',), ('Hellstrom M.',), ('Gabashvili T.',), ('Verdasco M.',), ('Eleskovic E.',), ('van Gemerden M.',), ('Przysiezny M.',), ('Cook L.',), ('Guzman J.P.',), ('Beck A.',), ('Ram R.',), ('Ager J.',), ('Minar I.',), ('Djokovic N.',), ('Urban F.',), ('Kubot L.',), ('Baghdatis M.',), ('Jenkins S.',), ('Benneteau A.',), ('Odesnik W.',), ('Healey N.',), ('Tsonga J.W.',), ('Lu H.',), ('Ionita V.',), ('Bohane A.',), ('Widom T.',), ('Gimeno-Traver D.',), ('Zeng S.X.',), ('Roger-Vasselin E.',), ('Simon G.',), ('Gicquel M.',), ('Monfils G.',), ('Stakhovsky S.',), ('Ryderstedt M.',), ('Nielsen M.',), ('Bourgeois L.',), ('Kimmich M.',), ('Nunez E.',), ('Sun P.',), ('Vico U.',), ('Parada F.',), ('Wang Y.T.',), ('Dailey Z.',), ('Minar J.',), ('Tecau H.',), ('Evans B.',), ('Berrer M.',), ('Machado R.',), ('Sela D.',), ('Dlouhy L.',), ('Murray A.',), ('Klein T.',), ('Goodall J.',), ('Sherwood D.',), ('Summerer T.',), ('Oudsema S.',), ('Wilson B.',), ('Mergea F.',), ('Korteling S.',), ('Lu Y.',), ('Brzezicki J.P.',), ('Thron A.',), ('Bozoljac I.',), ('Fyrstenberg M.',), ('Chadaj A.',), ('Smeets R.',), ('Clayton A.',), ('Bester P.',), ('Young D.',), ('Gregorc L.',), ('Matsui T.',), ('Wang Y. Jr',), ('Gremelmayr D.',), ('Chen T.',), ('Do M.Q.',), ('Greul S.',), ('Naso G.',), ('Sanchez de Luna J.A.',), ('Fognini F.',), ('Ittogi T.',), ('Soeda G.',), ('Ledovskikh M.',), ('Davletshin V.',), ('Junaid R.',), ('King-Turner D.',), ('Berlocq C.',), ('Snobel P.',), ('Faurel J.C.',), ('Del Potro J.M.',), ('Aguilar J.',), ('Cuadrado C.',), ('Cilic M.',), ('Korolev E.',), ('Querry S.',), ('Rettenmaier T.',), ('Warburg S.',), ('Ghem A.',), ('Van der Dium A.',), ('Gallardo Valles M.',), ('Kuznetsov A.',), ('Burniol G.',), ('Balleret B.',), ('Klec I.',), ('Salva B.',), ('Ouahab L.',), ('Peric T.',), ('Gil F.',), ('Chela J.',), ('Popp T.',), ('Hartfield D.',), ('Chardy J.',), ('Montcourt M.',), ('Baker J.',), ('Haase R.',), ('Qureshi A.',), ('Zverev M.',), ('Becker B.',), ('Al Ghareeb M.',), ('Kutac R.',), ('Whitehouse W.',), ('Sijsling I.',), ('Darcis S.',), ('De Bakker T.',), ('Gonzalez S.',), ('Querrey S.',), ('Rieschick S.',), ('Junqueira D.',), ('Patriarca D.',), ('Sandbichler A.',), ('Azzaro L.',), ('Haider-Mauer A.',), ('Cipolla F.',), ('Ianni S.',), ('Sweeting R.',), ('Stoppini A.',), ('Polansky P.',), ('Hajek J.',), ('Simmonds P.',), ('Dolgopolov A.',), ('Crivoi V.',), ('Economidis K.',), (' Hajek J.',), ('Clemens T.',), ('Chaen T.',), ('Troicki V.',), ('Istomin D.',), ('Fish A.',), ('Eitzinger R.',), ('Reister J.',), ('Gulbis E.',), ('Robredo R.',), ('Jun W.',), ('Levine J.',), ('Schwank E.',), ('Huta Galung J.',), ('Witten J.',), ('Bolelli S.',), ('Andujar P.',), ('Gensse A.',), ('Granollers M.',), ('Dustov F.',), ('Chaki R.',), ('Sousa P.',), ('Brands D.',), ('Bachinger M.',), ('Eysseric J.',), ('Recouderc L.',), ('Giraldo S.',), ('Tveit E.',), ('Isner J.',), ('Nishikori K.',), ('Lacko L.',), ('Fischer M.',), ('Gonzalez M.',), ('Riba P.',), ('Olejniczak D.',), ('Klizan M.',), ('Cuevas P.',), ('McClune M.',), ('Echagaray B.',), ('Yu X.Y.',), ('Gard C.',), ('Meffert D.',), ('Lindahl N.',), ('Stadler S.',), ('Singh N.',), ('Dev Varman S.',), ('Guez D.',), ('Nam H.W.',), ('Matsukevitch D.',), ('Golubev A.',), ('Chekov P.',), ('Kudryavtsev A.',), ('Dorsch B.',), ('Statham R.',), ('Rosol L.',), ('Slanar M.',), ('Podlipnik H.',), ('Marrero D.',), ('Munoz de la Nava D.',), ('Decoud S.',), ('Bowles C.',), ('Crugnola M.',), ('Bellucci T.',), ('Smyczek T.',), ('Skugor F.',), ('Kavcic B.',), ('Anderson K.',), ('Elias G.',), ('Harrison R.',), ('Kukushkin M.',), ('Marrai M.',), ('Trujillo G.',), ('Del Potro J.',), ('Sidorenko A.',), ('Fabbiano T.',), ('Sanchez De Luna J.',), ('Lopez-Jaen M.A.',), ('De Voest R.',), ('Berankis R.',), ('Dimitrov G.',), ('Ward J.',), ('Nielsen F.',), ('Slabinsky A.',), ('Groth S.',), ('Kamke T.',), ('Van der Merwe I.',), ('Eaton C.',), ('Goransson T.',), ('Ouanna J.',), ('Dabul B.',), ('Brizzi A.',), ('Jun W.S.',), ('Oswald P.',), ('Mayer L.',), ('Belic L.',), ('Yani M.',), ('Ignatik U.',), ('Ball C.',), ('Krajicek A.',), ('Cruciat A.',), ('Qureshi A.U.H.',), ('Xu J.C.',), ('Jouan R.',), ('Mannarino A.',), ('Ito Y.',), ('Ito T.',), ('Lejnieks K.',), ('Tomic B.',), ('Devvarman S.',), ('Statham J.',), ('Klein B.',), ('Klaasen R.',), ('Dodig I.',), ('Mektic N.',), ('Silva D.',), ('Munoz de La Nava D.',), ('Ferreiro F.',), ('Janowicz J.',), ('Riba-Madrid P.',), ('Hocevar R.',), ('Rufin G.',), ('Fleming C.',), ('Zemlja G.',), ('Zeballos H.',), ('Britton D.',), ('De Chaunac S.',), ('Agostinelli B.',), ('Ilhan M.',), ('Valent R.',), ('Marchenko I.',), ('Millot V.',), ('Vovk S.',), ('Luncanu P.A.',), ('Dolgopolov O.',), ('Haider-Maurer A.',), ('Karlovic I. ',), ('Seppi A. ',), ('Rochus O. ',), ('Stepanek R. ',), ('Luczak P. ',), ('Chiudinelli M. ',), ('Bolelli S. ',), ('Troicki V. ',), ('Beck A. ',), ('Nieminen J. ',), ('Koellerer D. ',), ('Cilic M. ',), ('Zeballos H. ',), ('Chardy J. ',), ('Ljubicic I. ',), ('Isner J. ',), ('Serra F. ',), ('Federer R. ',), ('Lammer M. ',), ('Korolev E. ',), ('Hernych J. ',), ('Wawrinka S. ',), ('Djokovic N. ',), ('Gasquet R. ',), ('Montanes A. ',), ('Mathieu P.H. ',), ('Garcia-Lopez G. ',), ('Falla A. ',), ('Simon G. ',), ('Granollers M. ',), ('Monaco J. ',), ('Almagro N. ',), ('Mayer L. ',), ('Ferrero J.C. ',), ('Murray A. ',), ('Rochus C. ',), ('Tipsarevic J. ',), ('Martin A. ',), ('Monfils G. ',), ('Youzhny M. ',), ('Robredo T. ',), ('Verdasco F. ',), ('Davydenko N. ',), ('Millman J.',), ('Ebden M.',), ('Yang T.H.',), ('Sorensen L.',), ('Lemke J.',), ('Cervantes I.',), ('Veic A.',), ('Lorenzi P.',), ('Brown D.',), ('Aranguren J.M.',), ('Saavedra Corvalan C.',), ('Souza J.',), ('Bemelmans R.',), ('Jelenic P.',), ('Poerschke L.',), ('Mertens Y.',), ('Matosevic M.',), ('Krajinovic F.',), ('El Amrani R.',), ('Niland C.',), ('Ramos-Vinolas A.',), ('Donskoy E.',), ('Gojowczyk P.',), ('Munoz-De La Nava D.',), ('Mina G.',), ('Emmrich M.',), ('Alcaide G.',), ('Kudla D.',), ('Marti Y.',), ('Velotti A.',), ('Johnson S.',), ('Melzer G.',), ('Raonic M.',), ('Duclos P.L.',), ('Paire B.',), ('Sock J.',), ('Copil M.',), ('Ungur A.',), ('Del Bonis F.',), ('Kravchuk K.',), ('Gong M.X.',), ('Bai Y.',), ('Bautista R.',), ('Sugita Y.',), ('Goffin D.',), ('Sabry S.',), ('Bubka S.',), ('Venus M.',), ('Scholtz N.',), ('Van Der Merwe I.',), ('Rios F.',), ('Pospisil J.',), ('Lajovic D.',), ('Clezar G.',), ('Dutra Silva R.',), ('Kuznetsov Al.',), ('Borvanov R.',), ('Schoorel T.',), ('Garza D.',), ('Awadhy O.',), ('Granollers Pujol G.',), ('Kuznetsov An.',), ('Ramos A.',), ('Sousa J.',), ('Teixeira M.',), ('Marti J.',), ('Golding O.',), ('Cox D.',), ('De Schepper K.',), ('Wang J.',), ('Lindell C.',), ('Olaso G.',), ('Cervenak P.',), ('Kern R.',), ('Stebe C.M.',), ('Knittel B.',), ('Kosakowski D.',), ('Thiem D.',), ('Muster T.',), ('Sitak A.',), ('Chvojka E.',), ('Pospisil V.',), ('Dasnieres de Veigy J.',), ('Jaziri M.',), ('Dutra Da Silva R.',), ('Giannessi A.',), ('Rodrigues M.',), ('Renavand N.',), ('Wu D.',), ('Li Z.',), ('Zhang Z.',), ('Zopp J.',), ('Duckworth J.',), ('Vardhan V.',), ('Bhambri Y.',), ('Viola Mat.',), ('Van D. Merwe I.',), ('Marcan D.',), ('Lajola D.',), ('Kutrovsky D.',), ('Bagnis F.',), ('Olivetti A.',), ('Cabal J.S.',), ('Djokovic M.',), ('Williams R.',), ('Delbonis F.',), ('Ziadi M.',), ('Idmbarek Y.',), ('Gutierrez-Ferrol S.',), ('Brugues-Davi A.',), ('Balazs A.',), ('Farah R.',), ('Menendez-Maceiras A.',), ('Bedene A.',), ('Trungelliti M.',), ('Ehrat S.',), ('Mcclune M.',), ('Klahn B.',), ('Novikov D.',), ('Reix C.',), ('Betov S.',), ('Fidirko N.',), ('Siriluethaiwattana P.',), ('Deen Heshaam A.',), ('Singh S.',), ('Rosenholm P.',), ('Laaksonen H.',), ('Mitchell B.',), ('Stebe C-M.',), ('Zayed M. S.',), ('Safwat M.',), ('Saville L.',), ('Pella G.',), ('Weintraub A.',), ('Pouille L.',), ('Alund M.',), ('Viola M.',), ('Veger F.',), ('Reyes-Varela M.A.',), ('Ramirez C.',), ('Schwartzman D.',), ('Rachidi Y.',), ('Carreno-Busta P.',), ('Granollers G.',), ('Carballes Baena R.',), ('Struff J.L.',), ('Krawietz K.',), ('Ghedin R.',), ('Basic M.',), ('Evans D.',), ('Edmund K.',), ('Ymer E.',), ('Pavic A.',), ('Bossel A.',), ('Salamanca C.',), ('Estrella Burgos V.',), ('Barrientos N.',), ('Struvay E.',), ('Gomez E.',), ('King K.',), ('Harrison C.',), ('Topic J.',), ('Coric B.',), ('Setkic A.',), ('Novak D.',), ('Peliwo F.',), ('Bogaerts R.',), ('Herbert P.H.',), ('Fucsovics M.',), ('Vesely J.',), ('Karatsev A.',), ('Inglot D.',), ('Biryukov M.',), ('Djere L.',), ('Khachanov K.',), ('Langer N.',), ('Mecir M.',), ('Nedovyesov A.',), ('Kokkinakis T.',), ('Kyrgios N.',), ('Dzumhur D.',), ('Gonzalez A.',), ('Daniel T.',), ('Lama G.',), ('Hank T.',), ('Smith J.P.',), ('Khaddari H.',), ('Arguello F.',), ('Albot R.',), ('Travaglia S.',), ('Cecchinato M.',), ('Milojevic N.',), ('Delic M.',), ('Kubler J.',), ('Michon A.',), ('Pavic M.',), ('Rola B.',), ('Coppejans K.',), ('Smethurst D.',), ('Puetz T.',), ('Eriksson M.',), ('Olivo R.',), ('Thompson C.',), ('Zverev A.',), ('Londero J.I.',), ('Diez S.',), ('Tiafoe F.',), ('Schnur B.',), ('Buchanan C.',), ('Mcgee J.',), ('Rubin N.',), ('Donaldson J.',), ('Takeuchi K.',), ('Burquier G.',), ('Gao X.',), ('Ouyang B.',), ('Gerasimov E.',), ('Wang C.',), ('Baluda V.',), ('Gombos N.',), ('Prashanth V.',), ('Ramanathan R.',), ('Basilashvili N.',), ('Thompson J.',), ('Lokoli L.',), ('Moriya H.',), ('Vanni L.',), ('Jarry N.',), ('Androic T.',), ('Kozlov S.',), ('Rublev A.',), ('Molteni A.',), ('Andreozzi G.',), ('Chung H.',), ('De Greef A.',), ('Munar J.',), ('Silva F.',), ('Ilkel C.',), ('Trinker B.',), ('Donati M.',), ('Gaio F.',), ('Arnaboldi A.',), ('Hamou M.',), ('Nishioka Y.',), ('Gigounon G.',), ('Broady L.',), ('Demoliner M.',), ('Sarkissian A.',), ('Galan D.E.',), ('Hemery C.',), ('King D.',), ('Fratangelo B.',), ('Herbert P.H',), ('Shane R.',), ('Shyla Y.',), ('Uchiyama Y.',), ('Zhang Ze',), ('Zhang Zh.',), ('Ymer M.',), ('Marterer M.',), ('Miedler L.',), ('Kovalik J.',), ('Zayid M. S.',), ('Halys Q.',), ('Jasika O.',), ('Escobar G.',), ('Lazov A.',), ('Fritz T.',), ('Paul T.',), ('Monteiro T.',), ('Opelka R.',), ('Munoz De La Nava D.',), ('Carreno Busta P.',), ('Bautista Agut R.',), ('Cachin P.',), ('Caruso S.',), ('Garin C.',), ('Ortega-Olmedo R.',), ('Medvedev D.',), ('Pavlasek A.',), ('Samper-Montana J.',), ('Barrere G.',), ('Bourgue M.',), ('Escobedo E.',), ('Ward A.',), ('Lamasine T.',), ('Barton M.',), ('Willis M.',), ('Arvidsson I.',), ('Simonsson F.',), ('Kicker N.',), ('Bellier A.',), ('Mertl J.',), ('Linzer M.',), ('Lopez-Perez E.',), ('Shapovalov D.',), ('Eubanks C.',), ('Van Rijthoven T.',), ('Mcdonald M.',), ('Myneni S.',), ('Mmoh M.',), ('Satral J.',), ('Whittington A.',), ('Maden Y.',), ('Bublik A.',), ('Zayid M.S.',), (\"O'Connell C.\",), ('De Minaur A.',), ('Tepavac M.',), ('Griekspoor T.',), ('Tsitsipas S.',), ('Santillan A.',), ('Ahouda A.',), ('Quinzi G.',), ('Domingues J.',), ('Masur D.',), ('Hanfmann Y.',), ('Altmaier D.',), ('Marcora R.',), ('Sandgren T.',), ('Napolitano S.',), ('Del Potro J. M.',), ('Jung J.',), ('Norrie C.',), ('Harris L.',), ('Ofner S.',), ('Krueger M.',), ('Polmans M.',), ('Zekic M.',), ('Giustino L.',), ('Sakharov G.',), ('Hernandez-Fernandez J.',), ('Sanchez M.',), ('King E.',), ('Bangoura S.',), ('Bolt A.',), ('Koepfer D.',), ('Aragone J.',), ('Kwiatkowski T.S.',), ('Kypson P.',), ('Safranek V.',), ('Tyurnev E.',), ('Wu Y.',), ('Kuhn N.',), ('Berrettini M.',), ('Nagal S.',), ('Ojeda Lara R.',), ('Caruana L.',), ('Popyrin A.',), ('Vukic A.',), ('Taberner C.',), ('Quiroz R.',), ('Moutet C.',), ('Kuzmanov D.',), ('Andreev A.',), ('Korda S.',), ('Auger-Aliassime F.',), ('Gaston H.',), ('Ivashka I.',), ('Gomez L.',), ('Kecmanovic M.',), ('Vatutin A.',), ('Sonego L.',), ('Piros Z.',), ('Baldi F.',), ('Zapata Miralles B.',), ('Coria F.',), ('Horansky F.',), ('Janvier M.',), ('Hurkacz H.',), ('Purcell M.',), ('Molleker R.',), ('Clarke J.',), ('Kolar Z.',), ('Serdarusic N.',), ('Gunneswaran P.',), ('Roca Batalla O.',), ('Galovic V.',), ('Huesler M.A.',), ('Garanganga T.',), ('Giron M.',), ('Watanuki Y.',), ('Humbert U.',), ('Brooksby J.',), ('Tseng C.H.',), ('Karlovskiy E.',), ('Otte O.',), ('Hoang A.',), ('Dellien H.',), ('Lestienne C.',), ('Lopez Villasenor G.',), ('Sakamoto P.',), ('Martinez P.',), ('Krstin P.',), ('Catarina L.',), ('Sinner J.',), ('Davidovich Fokina A.',), ('Muller A.',), ('Benchetrit E.',), ('Rodionov J.',), ('Aragone JC',), ('Celikbilek A.',), ('Majchrzak K.',), ('Kwon S.W.',), ('Torpegaard M.',), ('Sarmiento R.',), ('Lee D.H.',), ('Lenz J.',), ('Zhang Ze.',), ('Kachmazov A.',), ('Mager G.',), ('Tsitsipas S. ',), ('Nadal R. ',), ('Zverev A. ',), ('Berrettini M. ',), ('Medvedev D. ',), ('Harris A.',), ('Ficovich J.P.',), ('Ruusuvuori E.',), ('Couacaud E.',), ('Nakashima B.',), ('Seyboth Wild T.',), ('Alcaraz C.',), ('Musetti L.',), ('Tabilo A.',), ('Wolf J.J.',), ('Cressy M.',), ('Blanch U.',), ('Rinderknech A.',), ('Mayot H.',), ('Galan D.',), ('Zeppieri G.',), ('Pellegrino A.',), ('Safiullin R.',), ('Bergs Z.',), ('Sachko V.',), ('Bonzi B.',), ('Forejtek J.',), ('Zuk K.',), ('Molcan A.',), ('Vrbensky M.',), ('Sweeny D.',), ('Vilella Martinez M.',), ('Fancutt T.',), ('Van De Zandschulp B.',), ('Mott B.',), ('Ferreira Silva F.',), ('O Connell C.',), ('Etcheverry T.',), ('Cerundolo F.',), ('Barrios M.',), ('Cerundolo J.M.',), ('Mochizuki S.',), ('Varillas J. P.',), ('Baez S.',), ('Rune H.',), ('Nava E.',), ('Borges N.',), ('Moraing M.',), ('Cazaux A.',), ('Stricker D.',), ('Draper J.',), ('Gray A.',), ('Klein L.',), ('Nikles J.',), ('Riedi L.',), ('Kopriva V.',), ('Mejia N.',), ('Ajdukovic D.',), ('Erler A.',), ('Riffice S.',), ('Svajda Z.',), ('Skatov T.',), ('Holmgren A.',), ('Gojo B.',), ('Tiurnev E.',), ('Vavassori A.',), ('Durasovic V.',), ('Hijikata R.',), ('Lehecka J.',), ('Machac T.',), ('Moroni G.M.',), ('Grenier H.',), ('Meligeni Rodrigues F',), ('Pucinelli de Almeida M.',), ('Shang J.',), ('Brouwer G.',), ('Kotov P.',), ('Guinard M.',), ('Medjedovic H.',), ('Gimeno Valero C.',), ('Passaro F.',), ('Arnaldi M.',), ('Ugo Carabelli C.',), ('Rodriguez Taverna S.',), ('Agamenone F.',), ('Jubb P.',), ('Peniston R.',), ('Ritschard A.',), ('Nardi L.',), ('Misolic F.',), ('Casanova H.',), ('Chappell N.',), ('Villanueva G.',), ('Shelton B.',), ('Tien L.',), ('Holt B.',), ('Furness E.',), ('Mena F.',), ('Kovacevic A.',), ('Uchida K.',), ('Blancaneaux G.',), ('Lazarov A.',), ('Oliel Y.',), ('Shevchenko A.',), ('Shimabukuro S.',), ('Maestrelli F.',), ('Cobolli F.',), ('De Jong J.',), ('Van Assche L.',), ('Geerts M.',), ('Mukund S.',), ('Svrcina D.',), ('Krutykh O.',), ('Hsu Y.',), ('Darderi L.',), ('Rybakov A.',), ('Tseng C. H.',), ('Fils A.',), ('Chidekh C.',), ('Wu T.L.',), ('Pecotic M.',), ('Shelbayh A.',), ('Fonseca J.',), ('Alves M.',), ('Pacheco Mendez R.',), ('Berrettini J.',), ('Bonadio R.',), ('Varillas J.P.',), ('Meligeni Alves F.',), ('Rocha H.',), ('Lalami Laaroussi Y.',), ('Vacherot V.',), ('Gakhov I.',), ('Rincon D.',), ('Rehberg M.',), ('Marozsan F.',), ('Lopez San Martin A.',), ('Diaz Acosta F.',), ('Tirante T.A.',), ('Mpetshi G.',), ('Olivieri G.',), ('Tu L.',), ('Loffhagen G.',), ('Choinski J.',), ('Borg L.',), ('Virtanen O.',), ('Michelsen A.',), ('Quinn E.',), ('Diallo G.',), ('Chung Y.',), ('Prizmic D.',), ('Landaluce M.',), ('Mansouri S.',), ('Pannu K.',), ('Kirchheimer S.',), ('Mensik J.',), ('Moreno De Alboran N.',), ('Mu T.',), ('Cui J.',), ('Sekulic P.',), ('Li Zh.',), ('Mo Y.',), ('Te R.',), ('Yevseyev D.',), ('Zhukayev B.',), ('Atmane T.',), ('Lajal M.',), ('Friberg K.',), ('Hassan B.',), ('Martineau M.',), ('Valkusz M.',), ('Harris B.',), ('Walton A.',), ('Escoffier A.',), ('Llamas Ruiz P.',), ('Navone M.',), ('Burruchaga R.',), ('Neff A.',), ('Comesana F.',), ('Hong S.',), ('Blanch D.',), ('Jorda Sanchis D.',), ('Moro Canas A.',), ('Topo M.',), ('Gigante M.',), ('Sanchez Izquierdo N.',), ('Squire H.',), ('Heide G.',), ('Schoolkate T.',), ('Fearnley J.',), ('Mccabe J.',), ('Hussey G.',), ('Broom C.',), ('Fery A.',), ('Bellucci M.',), ('Searle H.',), ('Faria J.',), ('Droguet T.',), ('Hardt N.',), ('Wong C.',), ('Collarini A.',), ('Neumayer L.',), ('Dodig M.',), ('Spizzirri E.',), ('Forbes M.',), ('Sanchez J.',), ('Kulti N.',), ('Stafford G.',), ('Knowles M.',), ('Szymanski J.',), ('Cortes J.',), ('Wiltschnig H.',), ('Garcia M.',), ('Fahlke A.',), ('Witt A.',), ('Braasch K.',), ('Arnold L.',), ('Tiilikainen K.',), ('Miketa D.',), ('Peschek D.',), ('Trimmel C.',), ('Vasek R.',), ('Cobolli S.',), ('Tramacchi P.',), ('Mor L.',), ('Miyao J.',), ('Mlynarik Z.',), ('Zhang Y.',), ('Kornienko I.',), ('Freelove O.',), ('Milligan L.',), ('Smith L.',), ('Syed F.',), ('Breen M.',), ('Perry T.',), ('Svarc L.',), ('Moyano D.',), ('Koll H.',), ('Navarra M.',), ('Derepasko A.',), ('Tkalec M.',), ('Peppas S.',), ('Tomashevich D.',), ('Koenig R.',), ('Shimada T.',), ('Zitko R.',), ('Al Khulaifi N.G.',), ('Willman D.',), ('Hormazabal G.',), ('Olguin L.',), ('Albert M.',), ('Coetzee J.',), ('Kennedy A.',), ('Hanley P.',), ('Lukaev R.',), ('Bohaboy D.',), ('Hantschek M.',), ('Durek R.',), ('Henry R.',), ('Norby R.',), ('Ouahabi T.',), ('Rocha D.',), ('Srichaphan N.',), ('Weinzierl J.',), ('Delfino M.',), ('Koderisch C.',), ('Logtens P.',), ('Andersson H.',), ('Prpic A.',), ('Quintero M.',), ('Ascione A.',), ('Andersen J.',), ('Reichel A.',), ('Braga P.',), ('Phillips T.',), ('Matos-Gil I.',), ('van der Meer N.',), ('Gimeno D.',), ('Pedroso A.',), ('Gruber K.',), ('Rascon T.',), ('Abdulla M.',), ('Harboe P.',), ('Fogues F.',), ('Condor F.',), ('Mirnegg M.',), ('Uebel L.',), ('Steckley R.',), ('Fruttero J.P.',), ('Kirillov E.',), ('Uppal V.',), ('Sultan-Khalfan A.',), ('Adaktusson J.',), ('Granollers-Pujol M.',), ('Luque D.',), ('Roshardt R.',), ('Vicente M.',), ('Panfil G.',), ('Wang Y.Jr.',), ('Smit J.',), ('Auckland J.',), ('Schuttler P.',), ('Fornell M.',), ('Stepanek M.',), ('Koning M.',), ('Guzman J.',), ('Guccione A.',), ('Ruevski P.',), ('Martin D.',), ('Raja P.',), ('Jones G.D.',), ('Jones G.',), ('Rodriguez B.',), ('Al-Ghareeb M.',), ('Lipsky S.',), ('Middelkoop M.',), ('Kim K',), (\"O'Neal J.\",), ('Piccari F.',), ('Estrella V.',), ('De Heart R.',), ('Ebelthite C.',), ('Anderson A.',), ('Zampieri C.',), ('Zlatanovic A.',), ('Kloer S.',), ('Wachiramanowong K.',), ('Kontinen H.',), ('Bohli S. ',), ('Schuettler R. ',), ('Kohlschreiber P. ',), ('Becker B. ',), ('Benneteau J. ',), ('Petzschner P. ',), ('Blake J. ',), ('Gonzalez F. ',), ('Bautista R. ',), ('Berdych T. ',), ('Greul S. ',), ('Kunitsyn I. ',), ('Vassallo-Arguello M. ',), ('Ferrer D. ',), ('Andreev I. ',), ('Cuevas P. ',), ('Gimeno-Traver D. ',), ('Hanescu V. ',), ('Lopez F. ',), ('Maamoun K.',), ('Sergeyev I.',), ('Wolmarans F.',), ('Im K.T.',), ('Deheart R.',), ('Di Mauro A.',), ('Sadecky A.',), ('Lojda D.',), ('Belyaev I.',), ('Romboli F.',), ('Galdon P.',), ('Kumantsov A.',), ('Granollers-Pujol G.',), ('Walter L.',), ('Grigelis L.',), ('Torebko P.',), ('Nedelko I.',), ('Mesaros K.',), ('Strode B.',), ('Gomez-Herrera C.',), ('Trusendi W.',), ('Meister N.',), ('Authom M.',), ('Vasilevski A.',), ('Davydenko P.',), ('Desein N.',), ('Corrie E.',), ('Reid M.',), ('Westerhof B.',), ('Trongcharoenchaikul W.',), ('Jeong S.Y.',), ('Nedovyesov O.',), ('Sekulic M.',), ('Nedunchezhiyan J.',), ('Hossam K.',), ('Struff J-L.',), ('Artunedo Martinavarro A.',), ('Ciorcila P.',), ('Vaisse M.',), ('Pasha N.',), ('De Paula F.',), ('Kohlschreiber P..',), ('Herbert P-H.',), ('Quigley E.',), ('Martin F.',), ('Vega Hernandez D.',), ('Gomez A.',), ('Trevisan M.',), ('Niki T.',), ('Anderson O.',), ('Tearney F.',), ('Patino L.',), ('Soderlund C.',), ('Cacic N.',), ('De Loore J.',), ('Yuksel A.',), ('Luz O.',), ('Silva F.F.',), ('Bellotti R.',), ('Halebian A.',), ('Leshem E.',), ('Bega A.',), ('Chrysochos P.',), ('Takahashi Y.',), ('Kadhe A.',), ('Donski A.',), ('Hernandez-Fernandez J',), ('Reinberg E.',), ('Arevalo M.',), ('Altamirano C.',), ('Basso A.',), ('Kirkin E.',), ('Moroni G.',), ('Monteiro J.',), ('Roumane R.',), ('Dubrivnyy A.',), ('Avidzba A.',), ('Thiem D. ',), ('Barrios Vera M.T.',), ('Popko D.',), ('Nam J.S.',), ('Aragone J.C.',), ('Bourchier H.',), ('Menezes J.',), ('Tsitsipas P.',), ('Brancaccio R.',), ('Bryde T.',), ('Alvarez Varona N.',), ('Blumberg W.',), ('Dutra Da Silva D.',), ('Poljicak M.',), ('Galarneau A.',), ('Pervolarakis M.',), ('Madaras D.',), ('Noguchi R.',), ('Shimizu Y.',), ('Bailly G.',), ('Moundir A.',), ('Wessels L.',), ('Kumar O.',), ('Lock B.',), ('Zhou Y.',), ('Bu Y.',), ('Blockx A.',), ('Blanchet U.',), ('Gomez F.',), ('Dougaz A.',), ('Barranco Cosano J.',), ('Fanselow S.',), ('Schwaerzler J.',), ('Mikrut L.',), ('Kasnikowski M.',), ('Jacquet K.',), ('Federico Coria (ARG',), ('Facundo Bagnis (ARG',), ('Jack Draper (GBR',), ('David Goffin (BEL',), ('Jannik Sinner (ITA',), ('Guido Andreozzi (ARG',), ('Arthur Cazaux (FRA',), ('Colin Markes (USA',), ('Tennys Sandgren (USA',), ('Gian Marco Moroni (ITA',), ('Filip Cristian Jianu (ROU',), ('Andrea Arnaboldi (ITA',), ('Gianluca Mager (ITA',), ('Titouan Droguet (FRA',), ('Anastasia Potapova (RUS',), ('Ekaterina Alexandrova (RUS',), ('Qinwen Zheng (CHN',), ('Elena Rybakina (KAZ',), ('Karolina Pliskova (CZE',), ('Karolina Muchova (CZE',), ('Kateryna Baindl (UKR',), ('Lesia Tsurenko (UKR',), ('Panna Udvardy (HUN',), ('Borna Coric (CRO',), ('Holger Vitus Nodskov Rune (DEN',), ('Stefan Kozlov (USA',), ('Jenson Brooksby (USA',), ('Yibing Wu (CHN',), ('John Isner (USA',), ('Vitaliy Sachko (UKR',), ('Lloyd George Harris (RSA',), ('Nerman Fatic (BIH',), ('Dayne Kelly (AUS',), ('Mikhail Kukushkin (KAZ',), ('Malek Jaziri (TUN',), ('Belinda Bencic (SUI',), ('Maryna Zanevska (BEL',), ('Lauren Davis (USA',), ('Yulia Putintseva (KAZ',), ('Govind Nanda (USA',), ('Taro Daniel (JPN',), ('Facundo Diaz Acosta (ARG',), ('Marco Cecchinato (ITA',), ('John Millman (AUS',), ('Marton Fucsovics (HUN',), ('Ugo Humbert (FRA',), ('Dennis Novak (AUT',), ('Evan Furness (FRA',), ('Otto Virtanen (FIN',), ('Henri Laaksonen (SUI',), ('Alejandro Moro Canas (ESP',), ('Joao Domingues (POR',), ('Santiago Rodriguez Taverna (ARG',), ('Carlos Taberner (ESP',), ('Filip Misolic (AUT',), ('Miljan Zekic (SRB',), ('Cedrik-Marcel Stebe (GER',), ('Tereza Martincova (CZE',), ('Garbine Muguruza (ESP',), ('Paula Badosa (ESP',), ('Anett Kontaveit (EST',), ('Dalma Galfi (HUN',), ('Danka Kovinic (MNE',), ('Katerina Siniakova (CZE',), ('Patricia Maria Tig (ROU',), ('Kai Wehnelt (GER',), ('Maximilian Marterer (GER',), ('Corey Gaal (AUS',), ('Blake Mott (AUS',), ('Adam Taylor (GBR',), ('Liam Draxl (CAN',), ('Lorenzo Claverie (VEN',), ('Anna Blinkova (RUS',), ('Ana Konjuh (CRO',), ('Irina Khromacheva (RUS',), ('Bianca Andreescu (CAN',), ('Louis Wessels (GER',), ('Mats Moraing (GER',), ('Hugo Pontico (FRA',), ('Dominic Stephan Stricker (SUI',), ('Sebastian Ofner (AUT',), ('Quentin Halys (FRA',), ('Damir Dzumhur (BIH',), ('Viktor Durasovic (NOR',), ('Maximilian Neuchrist (AUT',), ('Gabriel Decamps (BRA',), ('Remy Bertola (SUI',), ('Mateus Alves (BRA',), ('Matheus Pucinelli De Almeida (BRA',), ('Henri Squire (GER',), ('Pol Wattanakul (THA',), ('Yasutaka Uchiyama (JPN',), ('Billy Harris (GBR',), ('Peter Gojowczyk (GER',), ('Marek Gengel (CZE',), ('Pedro Martinez (ESP',), ('Francisco Cerundolo (ARG',), ('Constant Lestienne (FRA',), ('Diego Schwartzman (ARG',), ('Nikoloz Basilashvili (GEO',), ('Daniel Elahi Galan (COL',), ('Yoshihito Nishioka (JPN',), ('Maxime Cressy (USA',), ('Sebastian Korda (USA',), ('Iga Swiatek (POL',), ('Irina-Camelia Begu (ROU',), ('Ons Jabeur (TUN',), ('Veronika Kudermetova (RUS',), ('Camila Osorio (COL',), ('Mark Lajal (EST',), ('Evgeny Karlovskiy (RUS',), ('Thiago Seyboth Wild (BRA',), ('Alexander Weis (ITA',), ('Juan Ignacio Londero (ARG',), ('Lorenzo Sonego (ITA',), ('Christopher Eubanks (USA',), ('Marin Cilic (CRO',), ('Taylah Preston (AUS',), ('Xiyu Wang (CHN',), ('Emma Raducanu (GBR',), ('Eugenie Bouchard (CAN',), ('Ryan Peniston (GBR',), ('Jose Pereira (BRA',), ('Eric Vanshelboim (UKR',), ('Pedro Boscardin Dias (BRA',), ('Ugo Blanchet (FRA',), ('Fernando Verdasco (ESP',), ('Alexandar Lazarov (BUL',), ('Jurij Rodionov (AUT',), ('Enzo Wallart (FRA',), ('Roy Smith (USA',), ('Harrison Adams (USA',), ('Murphy Cassone (USA',), ('Luca Margaroli (SUI',), ('Andrew Harris (AUS',), ('Benoit Paire (FRA',), ('Shuichi Sekiguchi (JPN',), (\"Christopher O'Connell (AUS\",), ('Juan Manuel Cerundolo (ARG',), ('Hernan Casanova (ARG',), ('Carlos Alcaraz (ESP',), ('Matteo Berrettini (ITA',), ('Juan Sebastian Osorio (COL',), ('Roman Andres Burruchaga (ARG',), ('Jordan Thompson (AUS',), ('Jumpei Yamasaki (JPN',), ('Tatsuma Ito (JPN',), ('Shintaro Imai (JPN',), ('Zizou Bergs (BEL',), ('Yue Yuan (CHN',), ('Filip Krajinovic (SRB',), ('Gilles Simon (FRA',), ('Benjamin Bonzi (FRA',), ('Denis Yevseyev (KAZ',), ('Matthew Christopher Romios (AUS',), ('Callum Gale (AUS',), ('Zachary Svajda (USA',), ('Christian Langmo (USA',), ('Juan Pablo Ficovich (ARG',), ('Alvaro Guillen Meza (ECU',), ('Juan Bautista Otegui (ARG',), ('Gonzalo Villanueva (ARG',), ('Matthias Bachinger (GER',), ('Lukas Lacko (SVK',), ('Daniel Masur (GER',), ('Tereza Mihalikova (SVK',), ('Lulu Sun (SUI',), ('Nicolas Alvarez Varona (ESP',), ('Andy Murray (GBR',), ('Arthur Rinderknech (FRA',), ('Jason Jung (TPE',), ('Marc Polmans (AUS',), ('Joris De Loore (BEL',), ('Emilio Gomez (ECU',), ('Elliot Benchetrit (MAR',), ('Jozef Kovalik (SVK',), ('Corentin Moutet (FRA',), ('Shelby Rogers (USA',), ('Shuai Zhang (CHN',), ('Anna Kalinskaya (RUS',), ('Clara Burel (FRA',), ('Adrian Mannarino (FRA',), ('Fabio Fognini (ITA',), ('Sebastian Baez (ARG',), ('Dimitar Kuzmanov (BUL',), ('Tallon Griekspoor (NED',), ('Zsombor Piros (HUN',), ('Jack Sock (USA',), ('Fabian Marozsan (HUN',), ('Hugo Gaston (FRA',), ('Oceane Dodin (FRA',), ('Barbora Krejcikova (CZE',), ('Kaja Juvan (SLO',), ('Laura Siegemund (GER',), ('Daniil Medvedev (RUS',), ('Cameron Norrie (GBR',), ('Nick Kyrgios (AUS',), ('Mate Valkusz (HUN',), ('Pablo Andujar (ESP',), ('Jiri Lehecka (CZE',), ('Felipe Meligeni Alves (BRA',), ('Pedro Sakamoto (BRA',), ('Alibek Kachmazov (RUS',), ('Ray Ho (TPE',), ('Denis Kudla (USA',), ('Brandon Holt (USA',), ('Akira Santillan (AUS',), ('Tristan Lamasine (FRA',), ('Geoffrey Blancaneaux (FRA',), ('Harmony Tan (FRA',), ('Chloe Paquet (FRA',), ('Lucrezia Stefanini (ITA',), ('Marta Kostyuk (UKR',), ('Ajla Tomljanovic (AUS',), ('Taylor Fritz (USA',), ('Marcos Giron (USA',), ('Brandon Nakashima (USA',), ('Liam Broady (GBR',), ('Stan Wawrinka (SUI',), ('Stefano Travaglia (ITA',), ('Gijs Brouwer (NED',), ('Maxime Janvier (FRA',), ('Jelle Sels (NED',), ('Mattia Bellucci (ITA',), ('Nikolas Sanchez-Izquierdo (ESP',), ('Samuel Vincent Ruggeri (ITA',), ('Ergi Kirkin (TUR',), ('Marco Trungelliti (ARG',), ('Yannick Hanfmann (GER',), ('Juan Pablo Varillas (PER',), ('Dominik Koepfer (GER',), ('Viktoriya Tomova (BUL',), ('Jason Kubler (AUS',), ('Goncalo Oliveira (POR',), ('Michael Geerts (BEL',), ('Brandon Walkin (AUS',), ('Matias Franco Descotte (ARG',), ('Francisco Comesana (ARG',), ('Daria Saville (AUS',), ('Naomi Osaka (JPN',), ('Olga Danilovic (SRB',), ('Leolia Jeanjean (FRA',), ('Jasza Szajrych (POL',), ('Alex Rybakov (USA',), ('Bogdan Ionut Apostol (ROU',), ('Arantxa Rus (NED',), ('Ekaterine Gorgodze (GEO',), ('Bernarda Pera (USA',), ('Dayana Yastremska (UKR',), ('Giulio Zeppieri (ITA',), ('Ivan Gakhov (RUS',), ('Javier Barranco Cosano (ESP',), ('Thantub Suksumrarn (THA',), ('Omni Kumar (USA',), ('Omar Jasika (AUS',), ('Yunseong Chung (KOR',), ('Elmar Ejupovic (GER',), ('Moez Echargui (TUN',), ('Alessandro Giannessi (ITA',), ('Mariano Navone (ARG',), ('Arjun Kadhe (IND',), ('Fernando Romboli (BRA',), ('Nicolas Alvarez (PER',), ('Sebastian Fanselow (GER',), ('Miguel Damas (ESP',), ('Adrian Menendez-Maceiras (ESP',), ('Gregoire Barrere (FRA',), ('Nicola Kuhn (ESP',), ('Grigor Dimitrov (BUL',), ('Kamil Majchrzak (POL',), ('Tomas Martin Etcheverry (ARG',), ('Alexei Popyrin (AUS',), ('Hugo Dellien (BOL',), ('Yan Bondarevskiy (RUS',), ('Kimmer Coppejans (BEL',), ('Jan Choinski (GBR',), ('Dominik Palan (CZE',), ('JiSung Nam (KOR',), ('Sergey Fomin (UZB',), ('Yu Hsiou Hsu (TPE',), ('Bu Yunchaokete (CHN',), ('Giovanni Mpetshi Perricard (FRA',), ('Caroline Garcia (FRA',), ('Elise Mertens (BEL',), ('Martina Trevisan (ITA',), ('Storm Hunter (AUS',), ('Alison Van Uytvanck (BEL',), ('Joao Sousa (POR',), ('Miomir Kecmanovic (SRB',), ('Alexander Bublik (KAZ',), ('Benjamin Sigouin (CAN',), ('Saketh Myneni (IND',), ('Cristian Rodriguez (COL',), ('Petros Tsitsipas (GRE',), ('Patrick Kypson (USA',), ('Roberto Quiroz (ECU',), ('Gastao Elias (POR',), ('David Poljak (CZE',), ('Qiang Wang (CHN',), ('Christian Harrison (USA',), ('Cori Gauff (USA',), ('Marie Bouzkova (CZE',), ('Simona Halep (ROU',), ('Amanda Anisimova (USA',), ('Michael Mmoh (USA',), ('Gael Monfils (FRA',), ('Reilly Opelka (USA',), ('Vladyslav Orlov (UKR',), ('Bradley Klahn (USA',), ('Alex Hernandez (MEX',), ('Naoki Nakagawa (JPN',), ('Carlos Lopez Montagud (ESP',), ('Danielle Collins (USA',), ('Andrew Fenty (USA',), ('Tung-Lin Wu (TPE',), ('Rodrigo Pacheco Mendez (MEX',), ('Zhe Li (CHN',), ('Mikael Torpegaard (DEN',), ('Ernests Gulbis (LAT',), ('Vaclav Safranek (CZE',), ('Alexander Erler (AUT',), ('Gerald Melzer (AUT',), ('Gabriela Lee (ROU',), ('Laura Pigossi (BRA',), ('Mihaela Buzarnescu (ROU',), ('Jeffrey John Wolf (USA',), ('Casper Ruud (NOR',), ('Jiri Vesely (CZE',), ('Dino Prizmic (CRO',), ('Harold Mayot (FRA',), ('Inaki Montes-De La Torre (ESP',), ('Yosuke Watanuki (JPN',), ('Federico Iannaccone (ITA',), ('Thomaz Bellucci (BRA',), ('Nicolas Kicker (ARG',), ('Matteo Gigante (ITA',), ('Natalia Vikhlyantseva (RUS',), ('Weronika Ewald (POL',), ('Sara Errani (ITA',), ('Jay Clarke (GBR',), ('Tim Van Rijthoven (NED',), ('Laurent Lokoli (FRA',), ('Tamara Zidansek (SLO',), ('Andrea Petkovic (GER',), ('Petra Martic (CRO',), ('Calin Manda (ROU',), ('Alexis Gautier (FRA',), ('Zdenek Kolar (CZE',), ('John Mcnally (USA',), ('Enzo Couacaud (FRA',)]\n"
     ]
    }
   ],
   "source": [
    "# print weather data\n",
    "cursor.execute(\"SELECT DISTINCT json_extract(Weather, '$.weather_code') FROM Data\")\n",
    "print(cursor.fetchall())\n",
    "\n",
    "# get all players\n",
    "\n",
    "cursor.execute(\"SELECT DISTINCT Player FROM Data\")\n",
    "print(cursor.fetchall())\n"
   ]
  },
  {
   "cell_type": "markdown",
   "metadata": {},
   "source": [
    "Observations:\n",
    "\n",
    "Weather is overall restricted to the following conditions (see https://open-meteo.com/en/docs#daily=weather_code):\n",
    "\n",
    "2 = Partly cloudy\n",
    "1 = Mainly clear\n",
    "51 = Light drizzle\n",
    "61 = Slight rain "
   ]
  },
  {
   "cell_type": "code",
   "execution_count": 39,
   "metadata": {},
   "outputs": [],
   "source": [
    "def generic_bar(): # generic bar graph (injuries per court type - 3 layers)\n",
    "    # Filter only those results from July (07) 2022 to February (02) 2023\n",
    "    query = \"SELECT Surface, Injury FROM Data WHERE Date BETWEEN '2022-07-01' AND '2023-02-28'\"\n",
    "\n",
    "    df = pd.read_sql_query(query, conn)\n",
    "\n",
    "    # counting injuries per surface type\n",
    "    grouped_data = df.groupby(['Surface', 'Injury']).size().reset_index(name='Count')\n",
    "\n",
    "    # extract all the counts for the chart\n",
    "    count_injured_hard = grouped_data[(grouped_data['Surface'] == 'Hard') & (grouped_data['Injury'] == 1)]['Count'].values[0] \n",
    "    count_non_injured_hard = grouped_data[(grouped_data['Surface'] == 'Hard') & (grouped_data['Injury'] == 0)]['Count'].values[0]\n",
    "\n",
    "    count_injured_clay = grouped_data[(grouped_data['Surface'] == 'Clay') & (grouped_data['Injury'] == 1)]['Count'].values[0]\n",
    "    count_non_injured_clay = grouped_data[(grouped_data['Surface'] == 'Clay') & (grouped_data['Injury'] == 0)]['Count'].values[0]\n",
    "\n",
    "    count_injured_grass = grouped_data[(grouped_data['Surface'] == 'Grass') & (grouped_data['Injury'] == 1)]['Count'].values[0]\n",
    "    count_non_injured_grass = grouped_data[(grouped_data['Surface'] == 'Grass') & (grouped_data['Injury'] == 0)]['Count'].values[0]\n",
    "\n",
    "    # dump to JSON\n",
    "    # wrapper for each variable in order to make it JSON serializable\n",
    "\n",
    "    data = {\n",
    "        \"Hard\": {\n",
    "            \"Injured\": int(count_injured_hard),\n",
    "            \"Non-Injured\": int(count_non_injured_hard)\n",
    "        },\n",
    "        \"Clay\": {\n",
    "            \"Injured\": int(count_injured_clay),\n",
    "            \"Non-Injured\": int(count_non_injured_clay)\n",
    "        },\n",
    "        \"Grass\": {\n",
    "            \"Injured\": int(count_injured_grass),\n",
    "            \"Non-Injured\": int(count_non_injured_grass)\n",
    "        }\n",
    "    }\n",
    "\n",
    "    with open(\"injury_vs_court_type.json\", \"w\") as f:\n",
    "        json.dump(data, f)\n",
    "        \n",
    "generic_bar()        "
   ]
  },
  {
   "cell_type": "code",
   "execution_count": null,
   "metadata": {},
   "outputs": [],
   "source": [
    "# close connection\n",
    "conn.close()"
   ]
  }
 ],
 "metadata": {
  "kernelspec": {
   "display_name": "Python 3",
   "language": "python",
   "name": "python3"
  },
  "language_info": {
   "codemirror_mode": {
    "name": "ipython",
    "version": 3
   },
   "file_extension": ".py",
   "mimetype": "text/x-python",
   "name": "python",
   "nbconvert_exporter": "python",
   "pygments_lexer": "ipython3",
   "version": "3.12.2"
  }
 },
 "nbformat": 4,
 "nbformat_minor": 2
}
